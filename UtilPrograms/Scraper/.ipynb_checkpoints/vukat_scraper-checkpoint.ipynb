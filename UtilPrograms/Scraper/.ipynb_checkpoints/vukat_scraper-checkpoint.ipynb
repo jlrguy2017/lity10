{
 "cells": [
  {
   "cell_type": "code",
   "execution_count": 1,
   "metadata": {},
   "outputs": [],
   "source": [
    "from bs4 import BeautifulSoup\n",
    "import requests\n",
    "import pytz\n",
    "import bson\n",
    "import pytz\n",
    "from datetime import datetime\n",
    "import json"
   ]
  },
  {
   "cell_type": "code",
   "execution_count": 2,
   "metadata": {},
   "outputs": [],
   "source": [
    "pageCount = 2\n",
    "category = \"pop-music\"\n",
    "\n",
    "utc = pytz.utc\n",
    "ist = pytz.timezone('Asia/Calcutta')\n",
    "\n",
    "articles_links = []\n",
    "headers = []\n",
    "descriptions = []\n",
    "contents = []\n",
    "imgs = []\n",
    "for i in range(1, pageCount+1):\n",
    "    r = requests.get(\"https://www.euronews.com/tag/\"+category+\"?p=\"+str(i))\n",
    "    source = BeautifulSoup(r.content, \"lxml\")\n",
    "    \n",
    "    #get articles links\n",
    "    articles = source.find(\"div\", attrs={\"class\": \"o-block-listing__articles\"}).find_all(\"article\")\n",
    "    a = source.find_all(\"h3\", attrs={\"class\": \"m-object__title qa-article-title\"})\n",
    "    for j in range(0, len(articles)):\n",
    "        articles_links.append(str(\"https://www.euronews.com\"+a[j].a.attrs.get(\"href\")))\n",
    "    copy = articles_links.copy()\n",
    "    for j in range(len(copy)-1, -1, -1):\n",
    "        if copy[j].find(\"/living/\") != -1:\n",
    "           del articles_links[j]\n",
    "        \n",
    "    #get descriptions\n",
    "    for j in range(0, len(articles)):\n",
    "        if copy[j].find(\"/living/\") == -1:\n",
    "            descriptions.append(source.find_all(\"a\", attrs={\"class\": \"m-object__description__link\"})[j].p.text)\n",
    "    \n",
    "    #get images\n",
    "    for j in range(0, len(articles)):\n",
    "        if copy[j].find(\"/living/\") == -1:\n",
    "            imgs.append(source.find_all(\"a\", attrs={\"class\": \"media__img__link\"})[j].img.attrs.get(\"data-src\"))\n",
    "    \n",
    "    #get headers\n",
    "    for j in range(0, len(articles_links)):\n",
    "        s = requests.get(articles_links[j])\n",
    "        source = BeautifulSoup(s.content, \"lxml\")\n",
    "        headers.append(source.find(\"div\", attrs={\"class\": \"o-article__title\"}).h1.text)\n",
    "        \n",
    "    #get contents\n",
    "    for j in range(0, len(articles_links)):\n",
    "        content = \"\"\n",
    "        s = requests.get(articles_links[j])\n",
    "        source = BeautifulSoup(s.content, \"lxml\")\n",
    "        limit = len(source.find(\"div\", attrs={\"class\":\"c-article-content js-article-content article__content\"}).find_all(\"p\"))\n",
    "        for k in range(0, limit):\n",
    "            content = content + source.find(\"div\", attrs={\"class\":\"c-article-content js-article-content article__content\"}).find_all(\"p\")[k].text + \" \"\n",
    "        contents.append(content)"
   ]
  },
  {
   "cell_type": "code",
   "execution_count": null,
   "metadata": {},
   "outputs": [],
   "source": []
  },
  {
   "cell_type": "code",
   "execution_count": 5,
   "metadata": {},
   "outputs": [],
   "source": [
    "import pymongo\n",
    "from pymongo import MongoClient\n",
    "client = MongoClient()\n",
    "client = MongoClient('localhost', 27017)\n",
    "db = client.companyDb\n",
    "collection = db.dumb"
   ]
  },
  {
   "cell_type": "code",
   "execution_count": 7,
   "metadata": {},
   "outputs": [],
   "source": [
    "pop_dict = {}\n",
    "objeler = []\n",
    "\n",
    "my_timezone = pytz.timezone(\"America/Guayaquil\")\n",
    "for i in range(len(contents)):\n",
    "    obje = {}\n",
    "    obje['title'] = headers[i]\n",
    "    obje['description'] = descriptions[i]\n",
    "    obje['content'] = contents[i]\n",
    "    obje['imageUrl'] = imgs[i]\n",
    "    obje['rating'] = 0\n",
    "    obje['isApproved'] = True\n",
    "    obje['viewCount'] = 0\n",
    "    obje['category'] = \"5df787463b36bc3748631a8a\"\n",
    "    obje['createdAt'] = str(datetime.now(tz=utc))\n",
    "    collection.insert_one(obje).inserted_id\n"
   ]
  },
  {
   "cell_type": "code",
   "execution_count": null,
   "metadata": {},
   "outputs": [],
   "source": []
  }
 ],
 "metadata": {
  "kernelspec": {
   "display_name": "Python 3",
   "language": "python",
   "name": "python3"
  },
  "language_info": {
   "codemirror_mode": {
    "name": "ipython",
    "version": 3
   },
   "file_extension": ".py",
   "mimetype": "text/x-python",
   "name": "python",
   "nbconvert_exporter": "python",
   "pygments_lexer": "ipython3",
   "version": "3.7.3"
  }
 },
 "nbformat": 4,
 "nbformat_minor": 2
}
