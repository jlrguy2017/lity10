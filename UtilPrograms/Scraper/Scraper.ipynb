{
 "cells": [
  {
   "cell_type": "code",
   "execution_count": 1,
   "metadata": {},
   "outputs": [],
   "source": [
    "from bs4 import BeautifulSoup\n",
    "import requests\n",
    "import pytz\n",
    "import bson\n",
    "import pytz\n",
    "from datetime import datetime\n",
    "import json"
   ]
  },
  {
   "cell_type": "code",
   "execution_count": 2,
   "metadata": {},
   "outputs": [],
   "source": [
    "import pymongo\n",
    "from pymongo import MongoClient\n",
    "client = MongoClient()\n",
    "client = MongoClient('localhost', 27017)\n",
    "db = client.companyDb\n",
    "collection = db.dumb"
   ]
  },
  {
   "cell_type": "code",
   "execution_count": 3,
   "metadata": {},
   "outputs": [],
   "source": [
    "#OK\n",
    "def get_descriptions(articles, descriptions):\n",
    "    for i in range(0, len(articles)):\n",
    "        descriptions.append(articles[i].find(\"div\", attrs={\"class\": \"m-object__description\"}).text)\n",
    "\n",
    "        #OK\n",
    "def get_images(articles, imgs):\n",
    "    for i in range(0, len(articles)):\n",
    "        imgs.append(articles[i].find(\"div\", attrs={\"class\": \"m-object__img\"}).figure.a.img.attrs.get(\"data-src\"))\n",
    "#OK\n",
    "def get_headers(articles, headers):\n",
    "    for i in  range(0, len(articles)):\n",
    "        headers.append(articles[i].find(\"div\", attrs={\"class\": \"m-object__body\"}).h3.text)\n",
    "\n",
    "#get contents\n",
    "def get_contents(articles_links, contents):\n",
    "    \n",
    "    for i in range(0, len(articles_links)):\n",
    "        content = \"\"\n",
    "        r = requests.get(articles_links[i])\n",
    "        source = BeautifulSoup(r.content, \"lxml\")\n",
    "        content_type = check_content(source)\n",
    "        \n",
    "        if(content_type == \"TYPE1\"):\n",
    "            all_ps = source.find(\"div\", attrs={\"class\":\"article__html small-12 large-8 column\"}).find_all(\"p\")\n",
    "            for j in range(0, len(all_ps)):\n",
    "                text = all_ps[j].text\n",
    "                content = content + text\n",
    "            \n",
    "        elif(content_type == \"TYPE2\"):\n",
    "            all_ps = source.find(\"div\", attrs={\"class\":\"c-article-content\"}).find_all(\"p\")\n",
    "            for j in range(0, len(all_ps)):\n",
    "                text = all_ps[j].text\n",
    "                content = content + text\n",
    "            \n",
    "        elif(content_type == \"TYPE3\"):\n",
    "            all_ps = source.find(\"div\", attrs={\"class\":\"c-article-content js-article-content article__content\"}).find_all(\"p\")\n",
    "            for j in range(0, len(all_ps)):\n",
    "                text = all_ps[j].text\n",
    "                content = content + text\n",
    "            \n",
    "        else:\n",
    "            print(\"ERROR\")\n",
    "            \n",
    "        contents.append(content)\n",
    "def check_content(source):\n",
    "    content_type = \"TYPE\"\n",
    "    \n",
    "    #type 1 - \"living\"\n",
    "    if(str(source.find(\"div\", attrs={\"class\":\"article__html small-12 large-8 column\"})) != \"None\"):\n",
    "        content_type = \"TYPE1\"\n",
    "\n",
    "    #type 2 - \"default\"\n",
    "    elif(str(source.find(\"div\", attrs={\"class\":\"c-article-content js-article-content article__content\"})) != \"None\"):\n",
    "        content_type = \"TYPE3\"\n",
    "    \n",
    "    #type 3 - \"blue colored background\"\n",
    "    elif(str(source.find(\"div\", attrs={\"class\":\"c-article-content\"})) != \"None\"):\n",
    "        content_type = \"TYPE2\"\n",
    "    \n",
    "    #invalid type\n",
    "    else:\n",
    "        content_type = \"!TYPE\"\n",
    "        \n",
    "    return content_type\n",
    "def get_articles_links(articles, articles_links):\n",
    "    for i in  range(0, len(articles)):\n",
    "        link = str(\"http://www.euronews.com\" + str(articles[i].find(\"div\", attrs={\"class\": \"m-object__body\"}).h3.a.attrs.get(\"href\")))\n",
    "        articles_links.append(link)"
   ]
  },
  {
   "cell_type": "code",
   "execution_count": 14,
   "metadata": {},
   "outputs": [],
   "source": [
    "pageCount = 3\n",
    "category = \"classical-music\"\n",
    "\n",
    "utc = pytz.utc\n",
    "ist = pytz.timezone('Asia/Calcutta')\n",
    "\n",
    "descriptions = []\n",
    "imgs = []\n",
    "headers = []\n",
    "contents = []\n",
    "articles_links = []\n",
    "\n",
    "\n",
    "for i in range(1, pageCount+1):\n",
    "    r = requests.get(\"https://www.euronews.com/tag/\"+category+\"?p=\"+str(i))\n",
    "    source = BeautifulSoup(r.content, \"lxml\")\n",
    "    articles = source.find(\"div\", attrs={\"class\": \"o-block-listing__articles\"}).find_all(\"article\")\n",
    " \n",
    "    get_descriptions(articles, descriptions)\n",
    "    get_images(articles, imgs)\n",
    "    get_headers(articles, headers)\n",
    " \n",
    "    get_articles_links(articles, articles_links)\n",
    "get_contents(articles_links, contents)"
   ]
  },
  {
   "cell_type": "code",
   "execution_count": 15,
   "metadata": {},
   "outputs": [
    {
     "data": {
      "text/plain": [
       "78"
      ]
     },
     "execution_count": 15,
     "metadata": {},
     "output_type": "execute_result"
    }
   ],
   "source": [
    "len(descriptions)"
   ]
  },
  {
   "cell_type": "code",
   "execution_count": 16,
   "metadata": {},
   "outputs": [],
   "source": [
    "pop_dict = {}\n",
    "objeler = []\n",
    "\n",
    "my_timezone = pytz.timezone(\"America/Guayaquil\")\n",
    "for i in range(len(descriptions)):\n",
    "    obje = {}\n",
    "    obje['title'] = headers[i]\n",
    "    obje['description'] = descriptions[i]\n",
    "    obje['content'] = contents[i]\n",
    "    obje['imageUrl'] = imgs[i]\n",
    "    obje['rating'] = 0\n",
    "    obje['isApproved'] = True\n",
    "    obje['viewCount'] = 0\n",
    "    obje['category'] = \"5df7874a3b36bc3748631a8b\"\n",
    "    aware_datetime = my_timezone.localize(datetime(2002, 10, 27, 6, 0, 0))\n",
    "    obje['createdAt'] = aware_datetime\n",
    "    collection.insert_one(obje).inserted_id\n"
   ]
  },
  {
   "cell_type": "code",
   "execution_count": null,
   "metadata": {},
   "outputs": [],
   "source": []
  }
 ],
 "metadata": {
  "kernelspec": {
   "display_name": "Python 3",
   "language": "python",
   "name": "python3"
  },
  "language_info": {
   "codemirror_mode": {
    "name": "ipython",
    "version": 3
   },
   "file_extension": ".py",
   "mimetype": "text/x-python",
   "name": "python",
   "nbconvert_exporter": "python",
   "pygments_lexer": "ipython3",
   "version": "3.7.3"
  }
 },
 "nbformat": 4,
 "nbformat_minor": 4
}
